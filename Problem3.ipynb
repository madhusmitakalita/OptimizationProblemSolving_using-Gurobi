{
 "cells": [
  {
   "cell_type": "code",
   "execution_count": 1,
   "metadata": {},
   "outputs": [],
   "source": [
    "from gurobipy import *"
   ]
  },
  {
   "cell_type": "code",
   "execution_count": 2,
   "metadata": {},
   "outputs": [],
   "source": [
    "P =[\n",
    "[5,4,6,7,1,5,6],\n",
    "[9,8,5,1,1,2,3], \n",
    "[1,7,4,6,2,3,5], \n",
    "[1,1,2,4,2,6,2], \n",
    "[15,12,1,3,10,8,2], \n",
    "[16,17,1,1,6,6,2], \n",
    "[3,5,8,1,2,1,1]\n",
    "]"
   ]
  },
  {
   "cell_type": "code",
   "execution_count": 3,
   "metadata": {},
   "outputs": [
    {
     "name": "stdout",
     "output_type": "stream",
     "text": [
      "Using license file /Users/madhusmitakalita/gurobi.lic\n",
      "Academic license - for non-commercial use only\n"
     ]
    }
   ],
   "source": [
    "m=Model(\"question2\")"
   ]
  },
  {
   "cell_type": "code",
   "execution_count": 4,
   "metadata": {},
   "outputs": [],
   "source": [
    "#adding the varible \n",
    "n=7\n",
    "x = m.addMVar((n, n),lb=0, ub=1, vtype=GRB.BINARY, name=\"x\")"
   ]
  },
  {
   "cell_type": "code",
   "execution_count": 5,
   "metadata": {},
   "outputs": [],
   "source": [
    "#adding objective function\n",
    "obj2=0\n",
    "for i in range (7):\n",
    "    for j in range (7):\n",
    "        obj2+=x[i][j]*P[i][j]\n",
    "        \n",
    "m.setObjective(obj2, GRB.MAXIMIZE)"
   ]
  },
  {
   "cell_type": "code",
   "execution_count": 6,
   "metadata": {},
   "outputs": [],
   "source": [
    "# adding constraint \n",
    "for i in range(n):\n",
    "\n",
    "        # 1 grid per row\n",
    "        m.addConstr(x[i, :].sum() <= 1 )\n",
    "for j in range(n):\n",
    "        #  1 grid  per column\n",
    "        m.addConstr(x[:, j].sum() <= 1 )"
   ]
  },
  {
   "cell_type": "code",
   "execution_count": 7,
   "metadata": {},
   "outputs": [
    {
     "name": "stdout",
     "output_type": "stream",
     "text": [
      "Gurobi Optimizer version 9.0.2 build v9.0.2rc0 (mac64)\n",
      "Optimize a model with 14 rows, 49 columns and 98 nonzeros\n",
      "Model fingerprint: 0xacff6ef8\n",
      "Variable types: 0 continuous, 49 integer (49 binary)\n",
      "Coefficient statistics:\n",
      "  Matrix range     [1e+00, 1e+00]\n",
      "  Objective range  [1e+00, 2e+01]\n",
      "  Bounds range     [1e+00, 1e+00]\n",
      "  RHS range        [1e+00, 1e+00]\n",
      "Found heuristic solution: objective 38.0000000\n",
      "Presolve time: 0.00s\n",
      "Presolved: 14 rows, 49 columns, 98 nonzeros\n",
      "Variable types: 0 continuous, 49 integer (49 binary)\n",
      "\n",
      "Root relaxation: objective 6.200000e+01, 5 iterations, 0.00 seconds\n",
      "\n",
      "    Nodes    |    Current Node    |     Objective Bounds      |     Work\n",
      " Expl Unexpl |  Obj  Depth IntInf | Incumbent    BestBd   Gap | It/Node Time\n",
      "\n",
      "*    0     0               0      62.0000000   62.00000  0.00%     -    0s\n",
      "\n",
      "Explored 0 nodes (5 simplex iterations) in 0.01 seconds\n",
      "Thread count was 8 (of 8 available processors)\n",
      "\n",
      "Solution count 2: 62 38 \n",
      "\n",
      "Optimal solution found (tolerance 1.00e-04)\n",
      "Best objective 6.200000000000e+01, best bound 6.200000000000e+01, gap 0.0000%\n"
     ]
    }
   ],
   "source": [
    "m.optimize()"
   ]
  },
  {
   "cell_type": "code",
   "execution_count": 8,
   "metadata": {},
   "outputs": [],
   "source": [
    "a=x.X\n",
    "d=[ [ 0 for i in range(7) ] for j in range(7) ] \n",
    "\n",
    "for i in range (7):\n",
    "    for j in range (7):\n",
    "        d[i][j]=int(a[i][j])"
   ]
  },
  {
   "cell_type": "code",
   "execution_count": 9,
   "metadata": {},
   "outputs": [
    {
     "data": {
      "text/plain": [
       "[[0, 0, 0, 1, 0, 0, 0],\n",
       " [1, 0, 0, 0, 0, 0, 0],\n",
       " [0, 0, 0, 0, 0, 0, 1],\n",
       " [0, 0, 0, 0, 0, 1, 0],\n",
       " [0, 0, 0, 0, 1, 0, 0],\n",
       " [0, 1, 0, 0, 0, 0, 0],\n",
       " [0, 0, 1, 0, 0, 0, 0]]"
      ]
     },
     "execution_count": 9,
     "metadata": {},
     "output_type": "execute_result"
    }
   ],
   "source": [
    "d"
   ]
  },
  {
   "cell_type": "code",
   "execution_count": 10,
   "metadata": {},
   "outputs": [
    {
     "name": "stdout",
     "output_type": "stream",
     "text": [
      "marked grid index ( 0 , 3 ) and value of the grid 7\n",
      "marked grid index ( 1 , 0 ) and value of the grid 9\n",
      "marked grid index ( 2 , 6 ) and value of the grid 5\n",
      "marked grid index ( 3 , 5 ) and value of the grid 6\n",
      "marked grid index ( 4 , 4 ) and value of the grid 10\n",
      "marked grid index ( 5 , 1 ) and value of the grid 17\n",
      "marked grid index ( 6 , 2 ) and value of the grid 8\n"
     ]
    }
   ],
   "source": [
    "# printing the results\n",
    "\n",
    "for i in range (7):\n",
    "    for j in range (7):\n",
    "        if d[i][j]==1:\n",
    "            print(\"marked grid index (\",i,\",\",j,\") and value of the grid\",P[i][j])\n"
   ]
  },
  {
   "cell_type": "code",
   "execution_count": 11,
   "metadata": {},
   "outputs": [
    {
     "name": "stdout",
     "output_type": "stream",
     "text": [
      "optimal value  i.e maximum sum of the values of those marked grids.  62.0\n"
     ]
    }
   ],
   "source": [
    "print(\"optimal value  i.e maximum sum of the values of those marked grids. \" ,m.objVal)"
   ]
  }
 ],
 "metadata": {
  "kernelspec": {
   "display_name": "Python 3",
   "language": "python",
   "name": "python3"
  },
  "language_info": {
   "codemirror_mode": {
    "name": "ipython",
    "version": 3
   },
   "file_extension": ".py",
   "mimetype": "text/x-python",
   "name": "python",
   "nbconvert_exporter": "python",
   "pygments_lexer": "ipython3",
   "version": "3.7.4"
  }
 },
 "nbformat": 4,
 "nbformat_minor": 2
}
