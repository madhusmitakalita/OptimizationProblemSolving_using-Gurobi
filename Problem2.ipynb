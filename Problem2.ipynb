{
 "cells": [
  {
   "cell_type": "code",
   "execution_count": 12,
   "metadata": {},
   "outputs": [],
   "source": [
    "from gurobipy import *\n"
   ]
  },
  {
   "cell_type": "code",
   "execution_count": 13,
   "metadata": {},
   "outputs": [],
   "source": [
    "U = [1,2,3,4,5] # Tool1, tool2, Tool3, tool4,tool5\n",
    "\n",
    "S=[\n",
    "    [1,0,1,0,0], #box1\n",
    "    [0,1,1,1,0], #box2\n",
    "    [1,1,0,0,0], #box3\n",
    "    [0,0,1,1,1]  #box4\n",
    "]\n",
    "\n",
    "#price of the tool boxes\n",
    "P=[100,120,280,200]\n"
   ]
  },
  {
   "cell_type": "code",
   "execution_count": 3,
   "metadata": {},
   "outputs": [
    {
     "name": "stdout",
     "output_type": "stream",
     "text": [
      "Using license file /Users/madhusmitakalita/gurobi.lic\n",
      "Academic license - for non-commercial use only\n"
     ]
    }
   ],
   "source": [
    "m=Model(\"Problem2\")"
   ]
  },
  {
   "cell_type": "code",
   "execution_count": 4,
   "metadata": {},
   "outputs": [],
   "source": [
    "#adding variables\n",
    "c = []\n",
    "for i in range(len(S)):\n",
    "    v= m.addVar(lb=0, ub=1,vtype=GRB.BINARY,name=\"Box#\"+str(i+1))\n",
    "    c.append(v)\n",
    "    \n"
   ]
  },
  {
   "cell_type": "code",
   "execution_count": 5,
   "metadata": {},
   "outputs": [],
   "source": [
    "#getting the objective function\n",
    "obj2 =0\n",
    "\n",
    "#for v in c:\n",
    "   # obj+=v\n",
    "    \n",
    "for i in range (len(c)):\n",
    "    obj2+=P[i]*c[i]\n",
    "\n",
    "m.setObjective(obj2, GRB.MINIMIZE)\n",
    "    \n",
    "    "
   ]
  },
  {
   "cell_type": "code",
   "execution_count": 6,
   "metadata": {},
   "outputs": [],
   "source": [
    "#adding constrains so that each of the tool is covered\n",
    "for j in range(len(U)):\n",
    "    const=0\n",
    "    for i in range(len(S)):\n",
    "        const+=S[i][j]*c[i]\n",
    "    m.addConstr(const>=1)"
   ]
  },
  {
   "cell_type": "code",
   "execution_count": 7,
   "metadata": {},
   "outputs": [
    {
     "name": "stdout",
     "output_type": "stream",
     "text": [
      "Gurobi Optimizer version 9.0.2 build v9.0.2rc0 (mac64)\n",
      "Optimize a model with 5 rows, 4 columns and 10 nonzeros\n",
      "Model fingerprint: 0x5d7a30c1\n",
      "Variable types: 0 continuous, 4 integer (4 binary)\n",
      "Coefficient statistics:\n",
      "  Matrix range     [1e+00, 1e+00]\n",
      "  Objective range  [1e+02, 3e+02]\n",
      "  Bounds range     [1e+00, 1e+00]\n",
      "  RHS range        [1e+00, 1e+00]\n",
      "Found heuristic solution: objective 480.0000000\n",
      "Presolve removed 5 rows and 4 columns\n",
      "Presolve time: 0.00s\n",
      "Presolve: All rows and columns removed\n",
      "\n",
      "Explored 0 nodes (0 simplex iterations) in 0.01 seconds\n",
      "Thread count was 1 (of 8 available processors)\n",
      "\n",
      "Solution count 2: 420 \n",
      "\n",
      "Optimal solution found (tolerance 1.00e-04)\n",
      "Best objective 4.200000000000e+02, best bound 4.200000000000e+02, gap 0.0000%\n"
     ]
    }
   ],
   "source": [
    "m.optimize()"
   ]
  },
  {
   "cell_type": "code",
   "execution_count": 8,
   "metadata": {},
   "outputs": [
    {
     "data": {
      "text/plain": [
       "[<gurobi.Var Box#1 (value 1.0)>,\n",
       " <gurobi.Var Box#2 (value 1.0)>,\n",
       " <gurobi.Var Box#3 (value 0.0)>,\n",
       " <gurobi.Var Box#4 (value 1.0)>]"
      ]
     },
     "execution_count": 8,
     "metadata": {},
     "output_type": "execute_result"
    }
   ],
   "source": [
    "c"
   ]
  },
  {
   "cell_type": "code",
   "execution_count": 9,
   "metadata": {},
   "outputs": [
    {
     "name": "stdout",
     "output_type": "stream",
     "text": [
      "Box#1 1\n",
      "Box#2 1\n",
      "Box#3 0\n",
      "Box#4 1\n"
     ]
    }
   ],
   "source": [
    "g=[]\n",
    "for v in m.getVars():\n",
    "        print('%s %g' % (v.varName, v.x))\n",
    "        e=v.x\n",
    "        if e==1:\n",
    "            g.append(v.varName)"
   ]
  },
  {
   "cell_type": "code",
   "execution_count": 10,
   "metadata": {},
   "outputs": [
    {
     "name": "stdout",
     "output_type": "stream",
     "text": [
      "The boxes combination that will have all the tools & together lowest price:\n",
      "['Box#1', 'Box#2', 'Box#4']\n"
     ]
    }
   ],
   "source": [
    "print( \"The boxes combination that will have all the tools & together lowest price:\")\n",
    "print(g)"
   ]
  },
  {
   "cell_type": "code",
   "execution_count": 11,
   "metadata": {},
   "outputs": [
    {
     "name": "stdout",
     "output_type": "stream",
     "text": [
      "optimal value i.e. the lowest price of the combination:  420.0\n"
     ]
    }
   ],
   "source": [
    "print(\"optimal value i.e. the lowest price of the combination: \" ,m.objVal)"
   ]
  },
  {
   "cell_type": "code",
   "execution_count": null,
   "metadata": {},
   "outputs": [],
   "source": []
  }
 ],
 "metadata": {
  "kernelspec": {
   "display_name": "Python 3",
   "language": "python",
   "name": "python3"
  },
  "language_info": {
   "codemirror_mode": {
    "name": "ipython",
    "version": 3
   },
   "file_extension": ".py",
   "mimetype": "text/x-python",
   "name": "python",
   "nbconvert_exporter": "python",
   "pygments_lexer": "ipython3",
   "version": "3.7.4"
  }
 },
 "nbformat": 4,
 "nbformat_minor": 2
}
