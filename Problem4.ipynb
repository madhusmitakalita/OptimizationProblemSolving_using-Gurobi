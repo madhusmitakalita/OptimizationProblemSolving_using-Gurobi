{
 "cells": [
  {
   "cell_type": "code",
   "execution_count": 1,
   "metadata": {},
   "outputs": [],
   "source": [
    "import networkx as nx\n",
    "import numpy as np\n",
    "import matplotlib.pyplot as plt\n",
    "from gurobipy import *\n"
   ]
  },
  {
   "cell_type": "code",
   "execution_count": 2,
   "metadata": {},
   "outputs": [
    {
     "name": "stdout",
     "output_type": "stream",
     "text": [
      "Enter number of vertices 6\n"
     ]
    }
   ],
   "source": [
    "X = int(input(\"Enter number of vertices \"))\n"
   ]
  },
  {
   "cell_type": "code",
   "execution_count": 3,
   "metadata": {},
   "outputs": [],
   "source": [
    "import random\n",
    "import math\n",
    "\n",
    "# to make connected graph first randomly  selceted a node\n",
    "# then node is connected to randomly to another node\n",
    "#then that node is connected to another node so that each node atleast will have 1 edge\n",
    "\n",
    "    \n",
    "y=[]\n",
    "i=0\n",
    "\n",
    "while i <X:\n",
    "    k = random.randint (0, X-1)\n",
    "    if k not in y:\n",
    "        y.append(k)\n",
    "        i+=1\n",
    "        \n",
    "\n",
    "    \n",
    "    "
   ]
  },
  {
   "cell_type": "code",
   "execution_count": 4,
   "metadata": {},
   "outputs": [
    {
     "data": {
      "text/plain": [
       "[1, 2, 5, 4, 0, 3]"
      ]
     },
     "execution_count": 4,
     "metadata": {},
     "output_type": "execute_result"
    }
   ],
   "source": [
    "y"
   ]
  },
  {
   "cell_type": "code",
   "execution_count": 5,
   "metadata": {},
   "outputs": [],
   "source": [
    "# creating the X-1 edges \n",
    "\n",
    "edges = []\n",
    "for i in range(X-1):\n",
    "    l=y[i]\n",
    "    k=y[i+1]\n",
    "    if k<l:\n",
    "        edges+=[(k,l)]\n",
    "    else:\n",
    "        edges+=[(l,k)]\n",
    "    "
   ]
  },
  {
   "cell_type": "code",
   "execution_count": 6,
   "metadata": {},
   "outputs": [
    {
     "data": {
      "text/plain": [
       "[(1, 2), (2, 5), (4, 5), (0, 4), (0, 3)]"
      ]
     },
     "execution_count": 6,
     "metadata": {},
     "output_type": "execute_result"
    }
   ],
   "source": [
    "edges"
   ]
  },
  {
   "cell_type": "code",
   "execution_count": 7,
   "metadata": {},
   "outputs": [
    {
     "name": "stdout",
     "output_type": "stream",
     "text": [
      "2\n"
     ]
    }
   ],
   "source": [
    "# As each node have already have 1 edge and it can have maximum X/2 node\n",
    "#hence now it can be connected to maximum to X/2-1 nod\n",
    "\n",
    "n=X/2-1\n",
    "n1=math.floor( n ) # if the value is fraction\n",
    "print(n1)"
   ]
  },
  {
   "cell_type": "code",
   "execution_count": 8,
   "metadata": {},
   "outputs": [],
   "source": [
    "# Randomly connect the nodes\n",
    "for i in range(X):\n",
    "    o=y[i]\n",
    "    p = random.randint (0, n1)# select number of edge randomly\n",
    "    for j in range (p):\n",
    "        k = random.randint (0, X-1) # randomly connect to node\n",
    "        if k==o:\n",
    "            continue\n",
    "        if k<o:\n",
    "            o,k=k,o\n",
    "        item=(o,k)\n",
    "        a = np.array(edges)\n",
    "        b=a.flatten()\n",
    "        if item not in edges:\n",
    "            if np.count_nonzero(b==o)<=n1: # check that it didnt exceed X/2 edges\n",
    "                if np.count_nonzero(b==k)<=n1: #check that it didnt exceed X/2 edges\n",
    "                    edges.append(item)"
   ]
  },
  {
   "cell_type": "code",
   "execution_count": 9,
   "metadata": {},
   "outputs": [
    {
     "data": {
      "text/plain": [
       "[(1, 2), (2, 5), (4, 5), (0, 4), (0, 3), (2, 3), (0, 5)]"
      ]
     },
     "execution_count": 9,
     "metadata": {},
     "output_type": "execute_result"
    }
   ],
   "source": [
    "edges\n"
   ]
  },
  {
   "cell_type": "code",
   "execution_count": 10,
   "metadata": {},
   "outputs": [
    {
     "name": "stdout",
     "output_type": "stream",
     "text": [
      "[(1, 2), (2, 5), (4, 5), (0, 4), (0, 3), (2, 3), (0, 5)]\n"
     ]
    }
   ],
   "source": [
    "mylist = list(dict.fromkeys(edges))\n",
    "print(mylist)"
   ]
  },
  {
   "cell_type": "code",
   "execution_count": 11,
   "metadata": {},
   "outputs": [
    {
     "name": "stderr",
     "output_type": "stream",
     "text": [
      "/Users/madhusmitakalita/opt/anaconda3/lib/python3.7/site-packages/networkx/drawing/nx_pylab.py:579: MatplotlibDeprecationWarning: \n",
      "The iterable function was deprecated in Matplotlib 3.1 and will be removed in 3.3. Use np.iterable instead.\n",
      "  if not cb.iterable(width):\n"
     ]
    },
    {
     "data": {
      "image/png": "[encoded data removed]",
      "text/plain": [
       "<Figure size 432x288 with 1 Axes>"
      ]
     },
     "metadata": {},
     "output_type": "display_data"
    },
    {
     "data": {
      "text/plain": [
       "<Figure size 7200x3600 with 0 Axes>"
      ]
     },
     "metadata": {},
     "output_type": "display_data"
    }
   ],
   "source": [
    "#plotting the graph for better visulaization\n",
    "\n",
    "G = nx.Graph()\n",
    "G.add_edges_from(mylist)\n",
    "random_pos = nx.random_layout(G, seed=30)\n",
    "pos = nx.spring_layout(G,k=0.10,iterations=20,pos=random_pos)\n",
    "nx.draw_networkx_nodes(G, pos,node_color = 'yellow')\n",
    "nx.draw_networkx_labels(G, pos)\n",
    "nx.draw_networkx_edges(G, pos, edge_color='blue')\n",
    "p=plt.figure(figsize=(100,50))\n"
   ]
  },
  {
   "cell_type": "code",
   "execution_count": 12,
   "metadata": {},
   "outputs": [
    {
     "name": "stdout",
     "output_type": "stream",
     "text": [
      "nodes &  repective total number of edges connected: [(1, 1), (2, 3), (5, 3), (4, 2), (0, 3), (3, 2)]\n"
     ]
    }
   ],
   "source": [
    "l=G.degree()\n",
    "print(\"nodes &  repective total number of edges connected:\", l)"
   ]
  },
  {
   "cell_type": "code",
   "execution_count": 13,
   "metadata": {},
   "outputs": [],
   "source": [
    "vertices  = range(X)\n",
    "edge=len(edges)"
   ]
  },
  {
   "cell_type": "code",
   "execution_count": 14,
   "metadata": {},
   "outputs": [
    {
     "name": "stdout",
     "output_type": "stream",
     "text": [
      "7\n"
     ]
    }
   ],
   "source": [
    "print(edge)"
   ]
  },
  {
   "cell_type": "code",
   "execution_count": 15,
   "metadata": {},
   "outputs": [],
   "source": [
    "S=[ [ 0 for i in range(edge) ] for j in range(X) ] \n",
    "\n",
    "    "
   ]
  },
  {
   "cell_type": "code",
   "execution_count": 16,
   "metadata": {},
   "outputs": [
    {
     "data": {
      "text/plain": [
       "[[0, 0, 0, 0, 0, 0, 0],\n",
       " [0, 0, 0, 0, 0, 0, 0],\n",
       " [0, 0, 0, 0, 0, 0, 0],\n",
       " [0, 0, 0, 0, 0, 0, 0],\n",
       " [0, 0, 0, 0, 0, 0, 0],\n",
       " [0, 0, 0, 0, 0, 0, 0]]"
      ]
     },
     "execution_count": 16,
     "metadata": {},
     "output_type": "execute_result"
    }
   ],
   "source": [
    "S"
   ]
  },
  {
   "cell_type": "code",
   "execution_count": 17,
   "metadata": {},
   "outputs": [],
   "source": [
    "# creating the matrix with the vertices and edges  \n",
    "\n",
    "for j in range (len(edges)):\n",
    "    l,m=edges[j]\n",
    "    S[l][j]=1\n",
    "    S[m][j]=1\n",
    "   "
   ]
  },
  {
   "cell_type": "code",
   "execution_count": 18,
   "metadata": {},
   "outputs": [
    {
     "data": {
      "text/plain": [
       "[[0, 0, 0, 1, 1, 0, 1],\n",
       " [1, 0, 0, 0, 0, 0, 0],\n",
       " [1, 1, 0, 0, 0, 1, 0],\n",
       " [0, 0, 0, 0, 1, 1, 0],\n",
       " [0, 0, 1, 1, 0, 0, 0],\n",
       " [0, 1, 1, 0, 0, 0, 1]]"
      ]
     },
     "execution_count": 18,
     "metadata": {},
     "output_type": "execute_result"
    }
   ],
   "source": [
    "S"
   ]
  },
  {
   "cell_type": "code",
   "execution_count": 19,
   "metadata": {},
   "outputs": [
    {
     "name": "stdout",
     "output_type": "stream",
     "text": [
      "Using license file /Users/madhusmitakalita/gurobi.lic\n",
      "Academic license - for non-commercial use only\n"
     ]
    }
   ],
   "source": [
    "m=Model(\"Problem4\")"
   ]
  },
  {
   "cell_type": "code",
   "execution_count": 20,
   "metadata": {},
   "outputs": [],
   "source": [
    "#adding variable\n",
    "c = []\n",
    "for i in range(len(S)):\n",
    "    v= m.addVar(lb=0, ub=1,vtype=GRB.BINARY,name=str(i))\n",
    "    c.append(v)"
   ]
  },
  {
   "cell_type": "code",
   "execution_count": 21,
   "metadata": {},
   "outputs": [],
   "source": [
    "#objective function\n",
    "obj2 =0\n",
    "obj1 =0\n",
    "\n",
    "\n",
    "for v in c:\n",
    "    obj1+=v\n",
    "    \n",
    "for i in range (len(c)):\n",
    "    for j in range (edge):\n",
    "        obj2+=S[i][j]*c[i]\n",
    "\n",
    "m.setObjective(obj1+obj2, GRB.MINIMIZE)"
   ]
  },
  {
   "cell_type": "code",
   "execution_count": 22,
   "metadata": {},
   "outputs": [],
   "source": [
    "#adding the constraint\n",
    "for j in range(edge):\n",
    "    const=0\n",
    "    for i in range(len(c)):\n",
    "        const+=S[i][j]*c[i]\n",
    "    m.addConstr(const>=1)"
   ]
  },
  {
   "cell_type": "code",
   "execution_count": 23,
   "metadata": {},
   "outputs": [
    {
     "name": "stdout",
     "output_type": "stream",
     "text": [
      "Gurobi Optimizer version 9.0.2 build v9.0.2rc0 (mac64)\n",
      "Optimize a model with 7 rows, 6 columns and 14 nonzeros\n",
      "Model fingerprint: 0x2659fcf5\n",
      "Variable types: 0 continuous, 6 integer (6 binary)\n",
      "Coefficient statistics:\n",
      "  Matrix range     [1e+00, 1e+00]\n",
      "  Objective range  [2e+00, 4e+00]\n",
      "  Bounds range     [1e+00, 1e+00]\n",
      "  RHS range        [1e+00, 1e+00]\n",
      "Found heuristic solution: objective 14.0000000\n",
      "Presolve removed 3 rows and 1 columns\n",
      "Presolve time: 0.00s\n",
      "Presolved: 4 rows, 5 columns, 9 nonzeros\n",
      "Variable types: 0 continuous, 5 integer (5 binary)\n",
      "\n",
      "Root relaxation: objective 1.100000e+01, 3 iterations, 0.00 seconds\n",
      "\n",
      "    Nodes    |    Current Node    |     Objective Bounds      |     Work\n",
      " Expl Unexpl |  Obj  Depth IntInf | Incumbent    BestBd   Gap | It/Node Time\n",
      "\n",
      "*    0     0               0      11.0000000   11.00000  0.00%     -    0s\n",
      "\n",
      "Explored 0 nodes (3 simplex iterations) in 0.01 seconds\n",
      "Thread count was 8 (of 8 available processors)\n",
      "\n",
      "Solution count 2: 11 14 \n",
      "\n",
      "Optimal solution found (tolerance 1.00e-04)\n",
      "Best objective 1.100000000000e+01, best bound 1.100000000000e+01, gap 0.0000%\n"
     ]
    }
   ],
   "source": [
    "m.optimize()"
   ]
  },
  {
   "cell_type": "code",
   "execution_count": 24,
   "metadata": {},
   "outputs": [
    {
     "name": "stdout",
     "output_type": "stream",
     "text": [
      "optimal value:  11.0\n"
     ]
    }
   ],
   "source": [
    "\n",
    "print(\"optimal value: \" ,m.objVal)"
   ]
  },
  {
   "cell_type": "code",
   "execution_count": 25,
   "metadata": {},
   "outputs": [
    {
     "data": {
      "text/plain": [
       "[<gurobi.Var 0 (value 1.0)>,\n",
       " <gurobi.Var 1 (value 0.0)>,\n",
       " <gurobi.Var 2 (value 1.0)>,\n",
       " <gurobi.Var 3 (value -0.0)>,\n",
       " <gurobi.Var 4 (value 1.0)>,\n",
       " <gurobi.Var 5 (value 0.0)>]"
      ]
     },
     "execution_count": 25,
     "metadata": {},
     "output_type": "execute_result"
    }
   ],
   "source": [
    "c"
   ]
  },
  {
   "cell_type": "code",
   "execution_count": 26,
   "metadata": {},
   "outputs": [],
   "source": [
    "g=[]\n",
    "for v in m.getVars():\n",
    "        e=v.x\n",
    "        if e==1:\n",
    "            g.append(v.varName)\n",
    "        "
   ]
  },
  {
   "cell_type": "code",
   "execution_count": 27,
   "metadata": {},
   "outputs": [
    {
     "name": "stdout",
     "output_type": "stream",
     "text": [
      " the minimum index to cover edges are:\n",
      "['0', '2', '4']\n"
     ]
    }
   ],
   "source": [
    "print(\" the minimum index to cover edges are:\")\n",
    "print(g)"
   ]
  },
  {
   "cell_type": "code",
   "execution_count": 28,
   "metadata": {},
   "outputs": [],
   "source": [
    "for i in range(0, len(g)): \n",
    "    g[i] = int(g[i])"
   ]
  },
  {
   "cell_type": "code",
   "execution_count": 29,
   "metadata": {},
   "outputs": [
    {
     "name": "stdout",
     "output_type": "stream",
     "text": [
      "Pink vertices are the selected vertices\n"
     ]
    },
    {
     "data": {
      "image/png": "[encoded data removed]",
      "text/plain": [
       "<Figure size 432x288 with 1 Axes>"
      ]
     },
     "metadata": {},
     "output_type": "display_data"
    },
    {
     "data": {
      "text/plain": [
       "<Figure size 7200x3600 with 0 Axes>"
      ]
     },
     "metadata": {},
     "output_type": "display_data"
    }
   ],
   "source": [
    "G = nx.Graph()\n",
    "G.add_edges_from(mylist)\n",
    "random_pos = nx.random_layout(G, seed=30)\n",
    "pos = nx.spring_layout(G,k=0.10,iterations=20,pos=random_pos)\n",
    "\n",
    "color_map = []\n",
    "for node in G:\n",
    "    if node not in g:\n",
    "        color_map.append('yellow')\n",
    "    else: \n",
    "        color_map.append('pink')\n",
    "\n",
    "nx.draw_networkx_nodes(G, pos,node_color=color_map)\n",
    "nx.draw_networkx_labels(G, pos)\n",
    "nx.draw_networkx_edges(G, pos, edge_color='blue')\n",
    "p=plt.figure(figsize=(100,50))\n",
    "print(\"Pink vertices are the selected vertices\")\n"
   ]
  },
  {
   "cell_type": "code",
   "execution_count": null,
   "metadata": {},
   "outputs": [],
   "source": []
  }
 ],
 "metadata": {
  "kernelspec": {
   "display_name": "Python 3",
   "language": "python",
   "name": "python3"
  },
  "language_info": {
   "codemirror_mode": {
    "name": "ipython",
    "version": 3
   },
   "file_extension": ".py",
   "mimetype": "text/x-python",
   "name": "python",
   "nbconvert_exporter": "python",
   "pygments_lexer": "ipython3",
   "version": "3.7.4"
  }
 },
 "nbformat": 4,
 "nbformat_minor": 2
}
